{
  "nbformat": 4,
  "nbformat_minor": 0,
  "metadata": {
    "colab": {
      "provenance": []
    },
    "kernelspec": {
      "name": "python3",
      "display_name": "Python 3"
    },
    "language_info": {
      "name": "python"
    }
  },
  "cells": [
    {
      "cell_type": "code",
      "source": [
        "import numpy as np\n",
        "import pandas as pd\n",
        "import joblib\n",
        "from sklearn.ensemble import RandomForestClassifier\n",
        "from sklearn.model_selection import train_test_split\n",
        "from sklearn.preprocessing import StandardScaler\n",
        "from sklearn.utils.class_weight import compute_class_weight\n",
        "\n",
        "data = pd.read_csv(\"data.csv\")\n",
        "\n",
        "\n",
        "X = data.drop(columns=[\"fail\"])\n",
        "y = data[\"fail\"]\n",
        "\n",
        "\n",
        "class_weights = compute_class_weight(class_weight=\"balanced\", classes=np.unique(y), y=y)\n",
        "class_weight_dict = {0: class_weights[0], 1: class_weights[1]}\n",
        "\n",
        "\n",
        "X_train, X_test, y_train, y_test = train_test_split(X, y, test_size=0.2, random_state=42, stratify=y)\n",
        "\n",
        "\n",
        "scaler = StandardScaler()\n",
        "X_train_scaled = scaler.fit_transform(X_train)\n",
        "X_test_scaled = scaler.transform(X_test)\n",
        "\n",
        "\n",
        "model = RandomForestClassifier(n_estimators=100, random_state=42, class_weight=class_weight_dict)\n",
        "model.fit(X_train_scaled, y_train)\n",
        "\n",
        "\n",
        "joblib.dump(model, \"failure_detection_model.pkl\")\n",
        "joblib.dump(scaler, \"scaler.pkl\")\n",
        "\n",
        "\n",
        "accuracy = model.score(X_test_scaled, y_test)\n",
        "print(f\"Model Accuracy: {accuracy * 100:.2f}%\")\n",
        "\n",
        "\n",
        "sample_data = np.array([\n",
        "    [3, 0, 4, 4, 3, 0, 32, 3, 3],\n",
        "    [640, 7, 7, 5, 7, 4, 33, 3, 3],\n",
        "])\n",
        "\n",
        "sample_data_scaled = scaler.transform(sample_data)\n",
        "predictions = model.predict(sample_data_scaled)\n",
        "\n",
        "for i, pred in enumerate(predictions):\n",
        "    print(f\"Sample {i+1}: {sample_data[i]} -> Prediction: {pred}\")\n"
      ],
      "metadata": {
        "id": "-l7Ra6v51TK8",
        "colab": {
          "base_uri": "https://localhost:8080/"
        },
        "outputId": "4bab82a1-250a-40f7-8eb5-91e90957cba4"
      },
      "execution_count": 1,
      "outputs": [
        {
          "output_type": "stream",
          "name": "stdout",
          "text": [
            "Model Accuracy: 91.01%\n",
            "Sample 1: [ 3  0  4  4  3  0 32  3  3] -> Prediction: 0\n",
            "Sample 2: [640   7   7   5   7   4  33   3   3] -> Prediction: 0\n"
          ]
        },
        {
          "output_type": "stream",
          "name": "stderr",
          "text": [
            "/usr/local/lib/python3.11/dist-packages/sklearn/utils/validation.py:2739: UserWarning: X does not have valid feature names, but StandardScaler was fitted with feature names\n",
            "  warnings.warn(\n"
          ]
        }
      ]
    },
    {
      "cell_type": "code",
      "source": [],
      "metadata": {
        "id": "TLcwHJNK1D-n"
      },
      "execution_count": null,
      "outputs": []
    }
  ]
}